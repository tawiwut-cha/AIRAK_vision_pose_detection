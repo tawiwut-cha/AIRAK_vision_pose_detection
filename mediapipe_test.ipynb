{
 "cells": [
  {
   "cell_type": "code",
   "execution_count": 1,
   "metadata": {},
   "outputs": [],
   "source": [
    "import cv2\n",
    "import mediapipe as mp\n",
    "import numpy as np\n",
    "mp_drawing = mp.solutions.drawing_utils\n",
    "mp_pose = mp.solutions.pose"
   ]
  },
  {
   "cell_type": "markdown",
   "metadata": {},
   "source": [
    "# 0. Test simple video feed"
   ]
  },
  {
   "cell_type": "code",
   "execution_count": 2,
   "metadata": {},
   "outputs": [],
   "source": [
    "# VIDEO FEED\n",
    "cap = cv2.VideoCapture(0)\n",
    "while cap.isOpened():\n",
    "    ret, frame = cap.read()\n",
    "    cv2.imshow('Mediapipe Feed', frame)\n",
    "    if cv2.waitKey(5) & 0xFF == ord('q'):\n",
    "        break\n",
    "\n",
    "cap.release()\n",
    "cv2.destroyAllWindows()"
   ]
  },
  {
   "cell_type": "markdown",
   "metadata": {},
   "source": [
    "# 1. Make detections"
   ]
  },
  {
   "cell_type": "code",
   "execution_count": 2,
   "metadata": {},
   "outputs": [],
   "source": [
    "# cap = cv2.VideoCapture(0)\n",
    "cap = cv2.VideoCapture('data/50_ways_to_fall.mp4')\n",
    "\n",
    "with mp_pose.Pose(min_detection_confidence=0.5, min_tracking_confidence=0.5) as pose:\n",
    "    while cap.isOpened():\n",
    "        ret, frame = cap.read()\n",
    "        if not ret:\n",
    "            break # use break if capturing a video file, continue if webcam\n",
    "\n",
    "        image = cv2.cvtColor(frame, cv2.COLOR_BGR2RGB) # mediapipe requires RGB\n",
    "        image.flags.writeable = False # helps manage memory\n",
    "\n",
    "        # Make detections\n",
    "        results = pose.process(image)\n",
    "        \n",
    "        image.flags.writeable = True\n",
    "        image = cv2.cvtColor(image, cv2.COLOR_RGB2BGR)\n",
    "\n",
    "        # Render detections\n",
    "        mp_drawing.draw_landmarks(image, results.pose_landmarks, mp_pose.POSE_CONNECTIONS)\n",
    "\n",
    "        cv2.imshow('Mediapipe Feed', image)\n",
    "        \n",
    "        if cv2.waitKey(10) & 0xFF == ord('q'):\n",
    "            break\n",
    "\n",
    "cap.release()\n",
    "cv2.destroyAllWindows()"
   ]
  },
  {
   "cell_type": "markdown",
   "metadata": {},
   "source": [
    "# 2. Determining joints"
   ]
  },
  {
   "cell_type": "markdown",
   "metadata": {},
   "source": [
    "<img src='https://google.github.io/mediapipe/images/mobile/pose_tracking_full_body_landmarks.png' style='height:300px'>"
   ]
  },
  {
   "cell_type": "code",
   "execution_count": 4,
   "metadata": {},
   "outputs": [],
   "source": [
    "# cap = cv2.VideoCapture(0)\n",
    "cap = cv2.VideoCapture('data/50_ways_to_fall.mp4')\n",
    "\n",
    "with mp_pose.Pose(min_detection_confidence=0.5, min_tracking_confidence=0.5) as pose:\n",
    "    while cap.isOpened():\n",
    "        ret, frame = cap.read()\n",
    "        if not ret:\n",
    "            break # use break if capturing a video file, continue if webcam\n",
    "\n",
    "        image = cv2.cvtColor(frame, cv2.COLOR_BGR2RGB) # mediapipe requires RGB\n",
    "        image.flags.writeable = False # helps manage memory\n",
    "\n",
    "        # Make detections\n",
    "        results = pose.process(image)\n",
    "        \n",
    "        # Extract landmarks\n",
    "        try:\n",
    "            landmarks = results.pose_landmarks.landmark\n",
    "            # print(landmarks)\n",
    "        except:\n",
    "            pass\n",
    "\n",
    "        image.flags.writeable = True\n",
    "        image = cv2.cvtColor(image, cv2.COLOR_RGB2BGR)\n",
    "\n",
    "        # Render detections\n",
    "        mp_drawing.draw_landmarks(image, results.pose_landmarks, mp_pose.POSE_CONNECTIONS)\n",
    "\n",
    "        cv2.imshow('Mediapipe Feed', image)\n",
    "        \n",
    "\n",
    "        if cv2.waitKey(10) & 0xFF == ord('q'):\n",
    "            break\n",
    "\n",
    "cap.release()\n",
    "cv2.destroyAllWindows()"
   ]
  },
  {
   "cell_type": "markdown",
   "metadata": {},
   "source": [
    "# 3. Utilize landmarks"
   ]
  },
  {
   "cell_type": "markdown",
   "metadata": {},
   "source": [
    "## Calculate perceived width and height from all joints"
   ]
  },
  {
   "cell_type": "code",
   "execution_count": 5,
   "metadata": {},
   "outputs": [
    {
     "data": {
      "text/plain": [
       "(0.1769704818725586, 0.28001585602760315)"
      ]
     },
     "execution_count": 5,
     "metadata": {},
     "output_type": "execute_result"
    }
   ],
   "source": [
    "def calculate_height_width(landmarks):\n",
    "    '''\n",
    "    Calculate perceived width and height by finding the range between extremes of x amd y coordinates respectively\n",
    "\n",
    "    Input:\n",
    "    landmarks - pose_landmarks field that contains the pose landmarks (returned from mp.solutions.pose.Pose.process)\n",
    "\n",
    "    Returns:\n",
    "    perceived height, perceived width\n",
    "    '''\n",
    "    joints_x, joints_y = [landmarks[i].x for i in range(0,33)], [landmarks[i].y for i in range(0,33)]\n",
    "    min_x, min_y = min(joints_x), min(joints_y)\n",
    "    max_x, max_y = max(joints_x), max(joints_y)\n",
    "    perceived_width = max_x - min_x\n",
    "    perceived_height = max_y - min_y\n",
    "    return perceived_height, perceived_width\n",
    "def annotate_height_width(image, height, width):\n",
    "    cv2.putText(\n",
    "        image, f'Height = {height}',\n",
    "        tuple(np.multiply(0.02, image.shape[:2]).astype(int)), \n",
    "        cv2.FONT_HERSHEY_SIMPLEX, 0.5, (0,0,0)\n",
    "        )\n",
    "    cv2.putText(\n",
    "        image, f'Width = {width}',\n",
    "        tuple(np.multiply(0.04, image.shape[:2]).astype(int)), \n",
    "        cv2.FONT_HERSHEY_SIMPLEX, 0.5, (0,0,0)\n",
    "        )\n",
    "\n",
    "calculate_height_width(landmarks)"
   ]
  },
  {
   "cell_type": "code",
   "execution_count": 6,
   "metadata": {},
   "outputs": [],
   "source": [
    "# cap = cv2.VideoCapture(0)\n",
    "cap = cv2.VideoCapture('data/50_ways_to_fall.mp4')\n",
    "\n",
    "with mp_pose.Pose(min_detection_confidence=0.5, min_tracking_confidence=0.5) as pose:\n",
    "    while cap.isOpened():\n",
    "        ret, frame = cap.read()\n",
    "        if not ret:\n",
    "            break # use break if capturing a video file, continue if webcam\n",
    "\n",
    "        image = cv2.cvtColor(frame, cv2.COLOR_BGR2RGB) # mediapipe requires RGB\n",
    "        image.flags.writeable = False # helps manage memory\n",
    "\n",
    "        # Make detections\n",
    "        results = pose.process(image)\n",
    "        \n",
    "        # Extract landmarks\n",
    "        try:\n",
    "            landmarks = results.pose_landmarks.landmark\n",
    "            height, width = calculate_height_width(landmarks)\n",
    "            annotate_height_width(image, height, width)\n",
    "        except:\n",
    "            pass\n",
    "\n",
    "        image.flags.writeable = True\n",
    "        image = cv2.cvtColor(image, cv2.COLOR_RGB2BGR)\n",
    "\n",
    "        # Render detections\n",
    "        mp_drawing.draw_landmarks(image, results.pose_landmarks, mp_pose.POSE_CONNECTIONS)\n",
    "\n",
    "        cv2.imshow('Mediapipe Feed', image)\n",
    "        \n",
    "\n",
    "        if cv2.waitKey(10) & 0xFF == ord('q'):\n",
    "            break\n",
    "\n",
    "cap.release()\n",
    "cv2.destroyAllWindows()"
   ]
  },
  {
   "cell_type": "markdown",
   "metadata": {},
   "source": [
    "## Calculate perceived width and height from an enclosing rectangle on the body"
   ]
  },
  {
   "cell_type": "code",
   "execution_count": 7,
   "metadata": {},
   "outputs": [
    {
     "data": {
      "text/plain": [
       "((0.07834063470363617, 0.8107044696807861),\n",
       " (0.3077361583709717, 0.5618168711662292),\n",
       " 0.24888759851455688,\n",
       " 0.2293955236673355)"
      ]
     },
     "execution_count": 7,
     "metadata": {},
     "output_type": "execute_result"
    }
   ],
   "source": [
    "def get_enclosing_rectangle(landmarks):\n",
    "    '''\n",
    "    Get coordinates for a rectangle enclosing the body derived from extreme points of the body.\n",
    "    - nose\n",
    "    - left and right: shoulders, wrists, heels\n",
    "    Input:\n",
    "    landmarks - pose_landmarks field that contains the pose landmarks (returned from mp.solutions.pose.Pose.process)\n",
    "\n",
    "    Returns:\n",
    "    rectangle - ((left_corner_x, left_corner_y), (right_corner_x, right_corner_y), height, width) \n",
    "                x, y are from 0 - 1\n",
    "    '''   \n",
    "    extreme_joints_ix = [0,11,12,15,16,29,30]\n",
    "    x = [landmarks[ix].x for ix in extreme_joints_ix]\n",
    "    y = [landmarks[ix].y for ix in extreme_joints_ix]\n",
    "    return (\n",
    "        (min(x),max(y)),\n",
    "        (max(x),min(y)),\n",
    "        max(y)-min(y),\n",
    "        max(x)-min(x))\n",
    "def annotate_rectangle(image, rectangle):\n",
    "    image_height, image_width = image.shape[0], image.shape[1]\n",
    "    rectangle_lower_left_x = int(rectangle[0][0] * image_width)\n",
    "    rectangle_lower_left_y = int(rectangle[0][1] * image_height)\n",
    "    rectangle_upper_right_x = int(rectangle[1][0] * image_width)\n",
    "    rectangle_upper_right_y = int(rectangle[1][1] * image_height)\n",
    "    cv2.rectangle(\n",
    "        image,\n",
    "        (rectangle_lower_left_x, rectangle_lower_left_y),\n",
    "        (rectangle_upper_right_x, rectangle_upper_right_y),\n",
    "        (54, 89, 255), 5\n",
    "        )\n",
    "        \n",
    "    rectangle_height = rectangle[2]\n",
    "    rectangle_width = rectangle[3]\n",
    "    cv2.putText(\n",
    "        image, f'Rectangle Height = {rectangle_height}',\n",
    "        (int(0.02*image_width), int(0.04*image_height)), \n",
    "        cv2.FONT_HERSHEY_SIMPLEX, 0.5, (0,0,0)\n",
    "        )\n",
    "    cv2.putText(\n",
    "        image, f'Rectangle Width = {rectangle_width}',\n",
    "        (int(0.02*image_width), int(0.07*image_height)), \n",
    "        cv2.FONT_HERSHEY_SIMPLEX, 0.5, (0,0,0)\n",
    "        )   \n",
    "get_enclosing_rectangle(landmarks)"
   ]
  },
  {
   "cell_type": "code",
   "execution_count": 8,
   "metadata": {},
   "outputs": [],
   "source": [
    "# cap = cv2.VideoCapture(0)\n",
    "cap = cv2.VideoCapture('data/50_ways_to_fall.mp4')\n",
    "\n",
    "with mp_pose.Pose(min_detection_confidence=0.5, min_tracking_confidence=0.5) as pose:\n",
    "    while cap.isOpened():\n",
    "        ret, frame = cap.read()\n",
    "        if not ret:\n",
    "            break # use break if capturing a video file, continue if webcam\n",
    "\n",
    "        image = cv2.cvtColor(frame, cv2.COLOR_BGR2RGB) # mediapipe requires RGB\n",
    "        image.flags.writeable = False # helps manage memory\n",
    "\n",
    "        # Make detections\n",
    "        results = pose.process(image)\n",
    "        \n",
    "        # Extract landmarks\n",
    "        try:\n",
    "            landmarks = results.pose_landmarks.landmark\n",
    "            rectangle = get_enclosing_rectangle(landmarks)\n",
    "            annotate_rectangle(image, rectangle)\n",
    "        except:\n",
    "            pass\n",
    "\n",
    "        image.flags.writeable = True\n",
    "        image = cv2.cvtColor(image, cv2.COLOR_RGB2BGR)\n",
    "\n",
    "        # Render detections\n",
    "        # mp_drawing.draw_landmarks(image, results.pose_landmarks, mp_pose.POSE_CONNECTIONS)\n",
    "\n",
    "        cv2.imshow('Mediapipe Feed', image)\n",
    "        \n",
    "\n",
    "        if cv2.waitKey(10) & 0xFF == ord('q'):\n",
    "            break\n",
    "\n",
    "cap.release()\n",
    "cv2.destroyAllWindows()"
   ]
  },
  {
   "cell_type": "markdown",
   "metadata": {},
   "source": [
    "# 4. Count falls"
   ]
  },
  {
   "cell_type": "markdown",
   "metadata": {},
   "source": [
    "## All joints"
   ]
  },
  {
   "cell_type": "code",
   "execution_count": 9,
   "metadata": {},
   "outputs": [],
   "source": [
    "def annotate_fall_count(image, height, width, fall_count):\n",
    "    annotate_height_width(image, height, width)\n",
    "    cv2.putText(\n",
    "        image, f'Fall count = {fall_count}',\n",
    "        tuple(np.multiply(0.06, image.shape[:2]).astype(int)), \n",
    "        cv2.FONT_HERSHEY_SIMPLEX, 0.5, (255,0,0)\n",
    "        )\n",
    "def detect_fall(height_0, width_0, height_1, width_1):\n",
    "    '''\n",
    "    Detect a fall when \n",
    "    - width_1 > height_1 (current frame)\n",
    "    and width_0 <= height_0 (previous frame)\n",
    "\n",
    "    Params:\n",
    "    height_0, width_0 - height and width from the previous frame\n",
    "    height_1, width_1 - height and width from the current frame\n",
    "    '''\n",
    "    return width_1 > height_1 and width_0 <= height_0\n"
   ]
  },
  {
   "cell_type": "code",
   "execution_count": 10,
   "metadata": {},
   "outputs": [],
   "source": [
    "# cap = cv2.VideoCapture(0)\n",
    "cap = cv2.VideoCapture('data/50_ways_to_fall.mp4')\n",
    "\n",
    "with mp_pose.Pose(min_detection_confidence=0.5, min_tracking_confidence=0.5) as pose:\n",
    "    # init fall_count and height_0, width_0\n",
    "    fall_count = 0\n",
    "    height_0 = None\n",
    "    width_0 = None\n",
    "    while cap.isOpened():\n",
    "        ret, frame = cap.read()\n",
    "        if not ret:\n",
    "            break # use break if capturing a video file, continue if webcam\n",
    "\n",
    "        image = cv2.cvtColor(frame, cv2.COLOR_BGR2RGB) # mediapipe requires RGB\n",
    "        image.flags.writeable = False # helps manage memory\n",
    "\n",
    "        # Make detections\n",
    "        results = pose.process(image)\n",
    "        \n",
    "        # Extract landmarks\n",
    "        try:\n",
    "            landmarks = results.pose_landmarks.landmark\n",
    "            # current frame\n",
    "            height_1, width_1 = calculate_height_width(landmarks)\n",
    "            # detect_fall\n",
    "            if height_0 and width_0:\n",
    "                if detect_fall(height_0, width_0, height_1, width_1):\n",
    "                    fall_count += 1\n",
    "            height_0, width_0 = height_1, width_1\n",
    "            annotate_fall_count(image, height_1, width_1, fall_count)\n",
    "        except:\n",
    "            pass\n",
    "\n",
    "        image.flags.writeable = True\n",
    "        image = cv2.cvtColor(image, cv2.COLOR_RGB2BGR)\n",
    "\n",
    "        # Render detections\n",
    "        mp_drawing.draw_landmarks(image, results.pose_landmarks, mp_pose.POSE_CONNECTIONS)\n",
    "\n",
    "        cv2.imshow('Mediapipe Feed', image)\n",
    "        \n",
    "\n",
    "        if cv2.waitKey(10) & 0xFF == ord('q'):\n",
    "            break\n",
    "\n",
    "cap.release()\n",
    "cv2.destroyAllWindows()"
   ]
  },
  {
   "cell_type": "markdown",
   "metadata": {},
   "source": [
    "## Enclosing rectangle"
   ]
  },
  {
   "cell_type": "code",
   "execution_count": 11,
   "metadata": {},
   "outputs": [],
   "source": [
    "def annotate_rectangle_fall_count(image, rectangle, fall_count):\n",
    "    annotate_rectangle(image, rectangle)\n",
    "    image_height, image_width = image.shape[0], image.shape[1]\n",
    "    cv2.putText(\n",
    "        image, f'Fall count = {fall_count}',\n",
    "        (int(0.02*image_width), int(0.1*image_height)), \n",
    "        cv2.FONT_HERSHEY_SIMPLEX, 0.5, (0,0,255)\n",
    "        )\n",
    "def detect_rectangle_fall(rectangle_0, rectangle_1):\n",
    "    '''\n",
    "    Detect a fall when \n",
    "    - width_1 > height_1 (current frame)\n",
    "    and width_0 <= height_0 (previous frame)\n",
    "\n",
    "    Params:\n",
    "    rectangle_0, rectangle_1 - return val of get_enclosing_rectangle from consecutive frames\n",
    "    '''\n",
    "    # return width_1 > height_1 and width_0 <= height_0\n",
    "    return rectangle_1[3] > rectangle_1[2] and rectangle_0[3] <= rectangle_0[2]\n",
    "    \n"
   ]
  },
  {
   "cell_type": "code",
   "execution_count": 15,
   "metadata": {},
   "outputs": [],
   "source": [
    "# cap = cv2.VideoCapture(0)\n",
    "cap = cv2.VideoCapture('data/50_ways_to_fall.mp4')\n",
    "\n",
    "with mp_pose.Pose(min_detection_confidence=0.5, min_tracking_confidence=0.5) as pose:\n",
    "    # init fall_count and height_0, width_0\n",
    "    fall_count = 0\n",
    "    rectangle_0 = None\n",
    "    while cap.isOpened():\n",
    "        ret, frame = cap.read()\n",
    "        if not ret:\n",
    "            break # use break if capturing a video file, continue if webcam\n",
    "\n",
    "        image = cv2.cvtColor(frame, cv2.COLOR_BGR2RGB) # mediapipe requires RGB\n",
    "        image.flags.writeable = False # helps manage memory\n",
    "\n",
    "        # Make detections\n",
    "        results = pose.process(image)\n",
    "        \n",
    "        # Extract landmarks\n",
    "        try:\n",
    "            landmarks = results.pose_landmarks.landmark\n",
    "            # current frame\n",
    "            rectangle_1 = get_enclosing_rectangle(landmarks)\n",
    "            # detect_fall\n",
    "            if rectangle_0:\n",
    "                if detect_rectangle_fall(rectangle_0, rectangle_1):\n",
    "                    fall_count += 1\n",
    "            rectangle_0 = rectangle_1\n",
    "            annotate_rectangle(image, rectangle_1)\n",
    "            annotate_rectangle_fall_count(image, rectangle_1, fall_count)\n",
    "        except:\n",
    "            pass\n",
    "\n",
    "        image.flags.writeable = True\n",
    "        image = cv2.cvtColor(image, cv2.COLOR_RGB2BGR)\n",
    "\n",
    "        # Render detections\n",
    "        # mp_drawing.draw_landmarks(image, results.pose_landmarks, mp_pose.POSE_CONNECTIONS)\n",
    "\n",
    "        cv2.imshow('Mediapipe Feed', image)\n",
    "        \n",
    "\n",
    "        if cv2.waitKey(10) & 0xFF == ord('q'):\n",
    "            break\n",
    "\n",
    "cap.release()\n",
    "cv2.destroyAllWindows()"
   ]
  }
 ],
 "metadata": {
  "interpreter": {
   "hash": "970b4d8da43189f768a3799d2b7381cf5f8708f8abc1dd3fa9ac3f3dbcc81f1b"
  },
  "kernelspec": {
   "display_name": "Python 3.8.8 64-bit ('.env': venv)",
   "name": "python3"
  },
  "language_info": {
   "codemirror_mode": {
    "name": "ipython",
    "version": 3
   },
   "file_extension": ".py",
   "mimetype": "text/x-python",
   "name": "python",
   "nbconvert_exporter": "python",
   "pygments_lexer": "ipython3",
   "version": "3.8.8"
  },
  "orig_nbformat": 4
 },
 "nbformat": 4,
 "nbformat_minor": 2
}
